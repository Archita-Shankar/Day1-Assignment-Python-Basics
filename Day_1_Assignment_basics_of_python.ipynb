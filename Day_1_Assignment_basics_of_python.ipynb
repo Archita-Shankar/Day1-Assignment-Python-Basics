{
  "nbformat": 4,
  "nbformat_minor": 0,
  "metadata": {
    "colab": {
      "provenance": [],
      "authorship_tag": "ABX9TyMiwBsTyqpcZJz/CDN0pbMU",
      "include_colab_link": true
    },
    "kernelspec": {
      "name": "python3",
      "display_name": "Python 3"
    },
    "language_info": {
      "name": "python"
    }
  },
  "cells": [
    {
      "cell_type": "markdown",
      "metadata": {
        "id": "view-in-github",
        "colab_type": "text"
      },
      "source": [
        "<a href=\"https://colab.research.google.com/github/Archita-Shankar/Day1-Assignment-Python-Basics/blob/main/Day_1_Assignment_basics_of_python.ipynb\" target=\"_parent\"><img src=\"https://colab.research.google.com/assets/colab-badge.svg\" alt=\"Open In Colab\"/></a>"
      ]
    },
    {
      "cell_type": "markdown",
      "source": [
        "#DAY 1 Assignment - Basics of Python"
      ],
      "metadata": {
        "id": "bXwrsJyTj5Hw"
      }
    },
    {
      "cell_type": "code",
      "execution_count": 42,
      "metadata": {
        "id": "W5IGuotOE-h8",
        "colab": {
          "base_uri": "https://localhost:8080/"
        },
        "outputId": "055633d0-f23c-4a50-d85d-b95e8b3569dc"
      },
      "outputs": [
        {
          "output_type": "stream",
          "name": "stdout",
          "text": [
            "[11, 12, 13, 14, 50, 60]\n",
            "[12, 13, 50, 60]\n",
            "[12, 13, 50, 60]\n",
            "[60, 50, 13, 12]\n",
            "Present\n",
            "4\n",
            "135\n",
            "13\n",
            "122\n",
            "13\n",
            "None\n"
          ]
        }
      ],
      "source": [
        "#Question 1\n",
        "# Q1. L is a list defined as L= [11, 12, 13, 14].\n",
        "# (i) WAP to add 50 and 60 to L.\n",
        "# (ii) WAP to remove 11 and 13from L.\n",
        "# (iii) WAP to sort L in ascending order.\n",
        "# (iv) WAP to sort L in descending order.\n",
        "# (v) WAP to search for 13 in L.\n",
        "# (vi) WAP to count the number of elements present in L.\n",
        "# (vii) WAP to sum all the elements in L.\n",
        "# (viii) WAP to sum all ODD numbers in L.\n",
        "# (ix) WAP to sum all EVEN numbers in L.\n",
        "# (x) WAP to sum all PRIME numbers in L.\n",
        "# (xi) WAP to clear all the elements in L.\n",
        "# (xii) WAP to delete L.\n",
        "\n",
        "L= [11, 12, 13, 14]\n",
        "# (i)\n",
        "L.append(50)\n",
        "L.append(60)\n",
        "print(L)\n",
        "\n",
        "# (ii)\n",
        "del L[0]\n",
        "del L[2]\n",
        "print(L)\n",
        "\n",
        "# (iii)\n",
        "L.sort()\n",
        "print(L)\n",
        "\n",
        "# (iv)\n",
        "L.sort(reverse=True)\n",
        "print(L)\n",
        "\n",
        "# (v)\n",
        "if (13 in L)==True:\n",
        "  print(\"Present\")\n",
        "else:\n",
        "  print(\"Not Present\")  \n",
        "\n",
        "# (vi)\n",
        "print(len(L))\n",
        "\n",
        "# (vii)\n",
        "print(sum(L))\n",
        "\n",
        "# (viii) \n",
        "add_odd=0\n",
        "for s in L:\n",
        "  if (s%2!=0):\n",
        "    add_odd+=s\n",
        "print(add_odd)\n",
        "\n",
        "# (ix)\n",
        "add_even=0\n",
        "for s in L:\n",
        "  if (s%2==0):\n",
        "    add_even+=s\n",
        "print(add_even)\n",
        "\n",
        "# (x)\n",
        "add_prime=0\n",
        "def Prime(s):\n",
        "  isPrime=0\n",
        "  for i in range(2,s//2+1):\n",
        "    if (s%i==0):\n",
        "      isPrime=1\n",
        "      break\n",
        "    else:\n",
        "      isPrime=0  \n",
        "  return isPrime\n",
        "\n",
        "for s in L:\n",
        "  if (Prime(int(s))==0):\n",
        "    add_prime+=s\n",
        "\n",
        "print(add_prime)   \n",
        "\n",
        "# (xi)\n",
        "print(L.clear())\n",
        "\n",
        "# (xii)\n",
        "del L"
      ]
    },
    {
      "cell_type": "code",
      "source": [
        "#Question 2\n",
        "# Q2. D is a dictionary defined as D= {1:5.6, 2:7.8, 3:6.6, 4:8.7, 5:7.7}.\n",
        "# (i) WAP to add new entry in D; key=8 and value is 8.8\n",
        "# (ii) WAP to remove key=2.\n",
        "# (iii) WAP to check weather 6 key is present in D.\n",
        "# (iv) WAP to count the number of elements present in D.\n",
        "# (v) WAP to add all the values present D.\n",
        "# (vi) WAP to update the value of 3 to 7.1.\n",
        "# (vii) WAP to clear the dictionary.\n",
        "\n",
        "# (i)\n",
        "D= {1:5.6, 2:7.8, 3:6.6, 4:8.7, 5:7.7}\n",
        "D= {1:5.6, 2:7.8, 3:6.6, 4:8.7, 5:7.7, 8:8.8}\n",
        "print(D)\n",
        "\n",
        "# (ii)\n",
        "del D[2]\n",
        "print(D)\n",
        "\n",
        "# (iii)\n",
        "print(6 in D)\n",
        "\n",
        "# (iv)\n",
        "print(len(D))\n",
        "\n",
        "# (v)\n",
        "print(sum(D.values()))\n",
        "\n",
        "# (vi)\n",
        "D[3]=7.1\n",
        "print(D)\n",
        "\n",
        "# (vii)\n",
        "print(D.clear())"
      ],
      "metadata": {
        "colab": {
          "base_uri": "https://localhost:8080/"
        },
        "id": "D7WlcCXvAh-X",
        "outputId": "a132cf95-630c-44a8-99c1-170a97571b7d"
      },
      "execution_count": 52,
      "outputs": [
        {
          "output_type": "stream",
          "name": "stdout",
          "text": [
            "{1: 5.6, 2: 7.8, 3: 6.6, 4: 8.7, 5: 7.7, 8: 8.8}\n",
            "{1: 5.6, 3: 6.6, 4: 8.7, 5: 7.7, 8: 8.8}\n",
            "False\n",
            "5\n",
            "37.4\n",
            "{1: 5.6, 3: 7.1, 4: 8.7, 5: 7.7, 8: 8.8}\n",
            "None\n"
          ]
        }
      ]
    },
    {
      "cell_type": "code",
      "source": [
        "#Question 3\n",
        "# Q3. S1 is a set defined as S1= [10, 20, 30, 40, 50, 60].\n",
        "#  S2 is a set defined as S2= [40, 50, 60, 70, 80, 90].\n",
        "# (i) WAP to add 55 and 66 in Set S1.\n",
        "# (ii) WAP to remove 10 and 30 from Set S1.\n",
        "# (iii) WAP to check whether 40 is present in S1.\n",
        "# (iv) WAP to find the union between S1 and S2.\n",
        "# (v) WAP to find the intersection between S1 and S2.\n",
        "# (vi) WAP to find the S1 - S2.\n",
        "\n",
        "S1={'10', '20', '30', '40', '50', '60'}\n",
        "S2={'40', '50', '60', '70', '80', '90'}\n",
        "\n",
        "# (i)\n",
        "S1.add(\"55\")\n",
        "S1.add(\"66\")\n",
        "print(S1)\n",
        "\n",
        "# (ii)\n",
        "S1.remove(\"10\")\n",
        "S1.remove(\"30\")\n",
        "print(S1)\n",
        "\n",
        "# (iii)\n",
        "print(\"40\" in S1)\n",
        "\n",
        "# (iv)\n",
        "print(S1.union(S2))\n",
        "\n",
        "# (v)\n",
        "print(S1.intersection(S2))\n",
        "\n",
        "# (vi)\n",
        "print(S1.difference(S2))"
      ],
      "metadata": {
        "colab": {
          "base_uri": "https://localhost:8080/"
        },
        "id": "QQeNAkFlC__N",
        "outputId": "c2916883-418a-4f24-c499-8d4e34e92774"
      },
      "execution_count": 65,
      "outputs": [
        {
          "output_type": "stream",
          "name": "stdout",
          "text": [
            "{'60', '10', '20', '50', '30', '40', '55', '66'}\n",
            "{'60', '20', '50', '40', '55', '66'}\n",
            "True\n",
            "{'80', '60', '20', '50', '66', '90', '55', '70', '40'}\n",
            "{'50', '40', '60'}\n",
            "{'20', '66', '55'}\n"
          ]
        }
      ]
    },
    {
      "cell_type": "code",
      "source": [
        "#Question 4\n",
        "# Q4. Write the following program.\n",
        "# (i) WAP to print 100 random strings whose length between 6 and 8.\n",
        "# (ii) WAP to print all prime numbers between 600 and 800.\n",
        "# (iii) WAP to print all numbers between 100 and 1000 that are divisible by 7 and 9.\n",
        "\n",
        "\n",
        "# (i)\n",
        "import random as r\n",
        "for i in range(100):\n",
        "  print (r.randint(6, 8), end=' ')\n",
        "\n",
        "print(\"\\n\")\n",
        "\n",
        "# (ii)\n",
        "def Prime(s):\n",
        "  isPrime=0\n",
        "  for i in range (2, s//2+1):\n",
        "    if(s%i==0):\n",
        "      isPrime=1\n",
        "      break\n",
        "  return isPrime\n",
        "\n",
        "for j in range (600, 800):\n",
        "  if (Prime(j)==0):\n",
        "    print(j, end=' ')    \n",
        "\n",
        "print(\"\\n\")\n",
        "# (iii)\n",
        "for i in range(100,1000):\n",
        "  if (i%7==0):\n",
        "    print(i, end=' ')\n",
        "  if (i%8==0):\n",
        "    print(j, end=' ')          "
      ],
      "metadata": {
        "colab": {
          "base_uri": "https://localhost:8080/"
        },
        "id": "Gmw9AHCaKxgc",
        "outputId": "9088d0dc-5126-4afe-cd44-096ce9e475df"
      },
      "execution_count": 6,
      "outputs": [
        {
          "output_type": "stream",
          "name": "stdout",
          "text": [
            "8 7 6 6 6 6 6 7 8 6 7 6 8 6 7 8 8 8 7 7 6 8 7 6 8 6 7 6 8 7 8 6 8 8 8 6 8 7 7 6 8 6 8 8 7 7 7 7 6 8 7 6 7 8 7 6 6 7 7 7 7 7 7 6 7 8 6 8 8 8 7 7 7 6 7 7 7 7 6 7 8 6 8 7 8 6 6 7 8 6 6 7 7 7 8 6 7 6 6 7 \n",
            "\n",
            "601 607 613 617 619 631 641 643 647 653 659 661 673 677 683 691 701 709 719 727 733 739 743 751 757 761 769 773 787 797 \n",
            "\n",
            "799 105 112 799 119 799 126 799 133 799 140 799 147 799 154 799 161 168 799 175 799 182 799 189 799 196 799 203 799 210 799 217 224 799 231 799 238 799 245 799 252 799 259 799 266 799 273 280 799 287 799 294 799 301 799 308 799 315 799 322 799 329 336 799 343 799 350 799 357 799 364 799 371 799 378 799 385 392 799 399 799 406 799 413 799 420 799 427 799 434 799 441 448 799 455 799 462 799 469 799 476 799 483 799 490 799 497 504 799 511 799 518 799 525 799 532 799 539 799 546 799 553 560 799 567 799 574 799 581 799 588 799 595 799 602 799 609 616 799 623 799 630 799 637 799 644 799 651 799 658 799 665 672 799 679 799 686 799 693 799 700 799 707 799 714 799 721 728 799 735 799 742 799 749 799 756 799 763 799 770 799 777 784 799 791 799 798 799 805 799 812 799 819 799 826 799 833 840 799 847 799 854 799 861 799 868 799 875 799 882 799 889 896 799 903 799 910 799 917 799 924 799 931 799 938 799 945 952 799 959 799 966 799 973 799 980 799 987 799 994 "
          ]
        }
      ]
    },
    {
      "cell_type": "code",
      "source": [
        "#Question 5\n",
        "# Q5. WAP to create two lists of 10 random numbers between 10 and 30; Find\n",
        "# (i) Common numbers in the two lists\n",
        "# (ii) Unique numbers in both the list\n",
        "# (iii) Minimum in both the list\n",
        "# (iv) Maximum in both the list\n",
        "# (v) Sum of both the lists\n",
        "\n",
        "# (i)\n",
        "import random as r\n",
        "A=[1, 2, 3, 4, 5, 6, 7, 8, 9, 10]\n",
        "l1=r.sample(range(10,30), 5)\n",
        "l2=r.sample(range(10,30), 5)\n",
        "print(\"List 1\",l1)\n",
        "print(\"List 2\",l2)\n",
        "for i in l1:\n",
        "  for j in l2:\n",
        "    if i==j:\n",
        "      print(j, \"is common\")\n",
        "    \n",
        "\n",
        "# (ii)\n",
        "for i in l1:\n",
        "  for j in l2:\n",
        "    if i!=j:\n",
        "      print(j,\"is unique\") \n",
        "    \n",
        "# (iii)\n",
        "print(\"Min in list 1 is\", min(l1))\n",
        "print(\"Min in list 2 is\", min(l2))\n",
        "\n",
        "# (iv)\n",
        "print(\"Max in list 1 is\", max(l1))\n",
        "print(\"Max in list 2 is\", max(l2))\n",
        "\n",
        "# (v)\n",
        "l1_sum=sum(l1)\n",
        "l2_sum=sum(l2)\n",
        "print(l1_sum+l2_sum)"
      ],
      "metadata": {
        "colab": {
          "base_uri": "https://localhost:8080/"
        },
        "id": "-LNTZB1MjWX_",
        "outputId": "b40edc9d-c620-44a2-de4f-fd9ea1d45da8"
      },
      "execution_count": 17,
      "outputs": [
        {
          "output_type": "stream",
          "name": "stdout",
          "text": [
            "List 1 [10, 20, 27, 21, 19]\n",
            "List 2 [14, 16, 15, 25, 17]\n",
            "14 is unique\n",
            "16 is unique\n",
            "15 is unique\n",
            "25 is unique\n",
            "17 is unique\n",
            "14 is unique\n",
            "16 is unique\n",
            "15 is unique\n",
            "25 is unique\n",
            "17 is unique\n",
            "14 is unique\n",
            "16 is unique\n",
            "15 is unique\n",
            "25 is unique\n",
            "17 is unique\n",
            "14 is unique\n",
            "16 is unique\n",
            "15 is unique\n",
            "25 is unique\n",
            "17 is unique\n",
            "14 is unique\n",
            "16 is unique\n",
            "15 is unique\n",
            "25 is unique\n",
            "17 is unique\n",
            "Min in list 1 is 10\n",
            "Min in list 2 is 14\n",
            "Max in list 1 is 27\n",
            "Max in list 2 is 25\n",
            "184\n"
          ]
        }
      ]
    },
    {
      "cell_type": "code",
      "source": [
        "#Question \n",
        "# Q6. WAP to create a list of 100 random numbers between 100 and 900. Count and print the:\n",
        "# (i) All odd numbers\n",
        "# (ii) All even numbers\n",
        "# (iii) All prime numbers\n",
        "\n",
        "# (i) and (ii)\n",
        "import random as r\n",
        "l3=r.sample(range(100,900), 5)\n",
        "print(\"The list is \",l3)\n",
        "for i in l3:\n",
        "  if (i%2==0):\n",
        "    print(i,\"is even\")\n",
        "  else:\n",
        "    print(i,\"is odd\")\n",
        "\n",
        "# (iii)\n",
        "for i in l3:\n",
        "  if (Prime==0):\n",
        "    print(i,\"is prime\")  \n",
        "  else:\n",
        "    print(\"Not prime\")   "
      ],
      "metadata": {
        "colab": {
          "base_uri": "https://localhost:8080/"
        },
        "id": "AearJa1hozOZ",
        "outputId": "25cae959-ae87-4f59-b04f-bd35b57478f9"
      },
      "execution_count": 28,
      "outputs": [
        {
          "output_type": "stream",
          "name": "stdout",
          "text": [
            "The list is  [116, 866, 138, 347, 833]\n",
            "116 is even\n",
            "866 is even\n",
            "138 is even\n",
            "347 is odd\n",
            "833 is odd\n",
            "Not prime\n",
            "Not prime\n",
            "Not prime\n",
            "Not prime\n",
            "Not prime\n"
          ]
        }
      ]
    },
    {
      "cell_type": "code",
      "source": [
        "#Question 7\n",
        "# Q7. D is a dictionary defined as D={1:\"One\",2:\"Two\",3:\"Three\",4:\"Four\", 5:\"Five\"}.\n",
        "#  WAP to read all the keys and values from dictionary and write to the file in the given below format.\n",
        "# Key1, Value1\n",
        "# Key2, Value2\n",
        "# Key3, Value3\n",
        "\n",
        "\n",
        "D={1:\"One\",2:\"Two\",3:\"Three\",4:\"Four\", 5:\"Five\"}\n",
        "for k in D:\n",
        "  print(k, \",\", D[k])\n"
      ],
      "metadata": {
        "colab": {
          "base_uri": "https://localhost:8080/"
        },
        "id": "ykOvkvJVtZKI",
        "outputId": "3792ed06-7bed-4db2-af78-4e4136c54778"
      },
      "execution_count": 34,
      "outputs": [
        {
          "output_type": "stream",
          "name": "stdout",
          "text": [
            "1 , One\n",
            "2 , Two\n",
            "3 , Three\n",
            "4 , Four\n",
            "5 , Five\n"
          ]
        }
      ]
    },
    {
      "cell_type": "code",
      "source": [
        "#Question\n",
        "# Q8. L is a list defined as L={\"One\",\"Two\",\"Three\",\"Four\",\"Five\"}.\n",
        "#  WAP to count the length of reach element from a list and write to the file in the given below format:\n",
        "# One, 3\n",
        "# Two, 3\n",
        "# Four, 4\n",
        "\n",
        "L={\"One\",\"Two\",\"Three\",\"Four\",\"Five\"}\n",
        "for i in L:\n",
        "  print(i,len(i))"
      ],
      "metadata": {
        "colab": {
          "base_uri": "https://localhost:8080/"
        },
        "id": "VnnDbgLjvTjW",
        "outputId": "0375dbf4-e58f-4db7-9af1-f3e0d50af908"
      },
      "execution_count": 36,
      "outputs": [
        {
          "output_type": "stream",
          "name": "stdout",
          "text": [
            "Five 4\n",
            "One 3\n",
            "Three 5\n",
            "Four 4\n",
            "Two 3\n"
          ]
        }
      ]
    },
    {
      "cell_type": "code",
      "source": [
        "#Question 8\n",
        "# Q9. Write to the file 100 random strings whose length between 10 and 15.\n",
        "\n",
        "\n",
        "fp=open('RandomStrings_10-15.txt','w')\t# Open the file in writing mode\n",
        "import string as s\n",
        "import random as r\n",
        "print (\"String        --> \",s.ascii_letters)\n",
        "\n",
        "for i in range(10,15):\n",
        "  random_string=r.sample(s.ascii_letters, i)\n",
        "  print (\"Selected Char --> \",random_string)\n",
        "  fp.write(str(r.sample(s.ascii_letters, i))+\"\\n\")\n",
        "\n",
        "fp.close()"
      ],
      "metadata": {
        "colab": {
          "base_uri": "https://localhost:8080/"
        },
        "id": "SbwBp5ARvpSW",
        "outputId": "81d823a3-52fb-4aa4-ad67-e3ab59f12f7b"
      },
      "execution_count": 48,
      "outputs": [
        {
          "output_type": "stream",
          "name": "stdout",
          "text": [
            "String        -->  abcdefghijklmnopqrstuvwxyzABCDEFGHIJKLMNOPQRSTUVWXYZ\n",
            "Selected Char -->  ['S', 'I', 'q', 'E', 'g', 'Y', 'h', 'n', 'G', 'N']\n",
            "Selected Char -->  ['G', 'h', 'r', 'z', 'Q', 'I', 'Z', 'x', 'B', 't', 'u']\n",
            "Selected Char -->  ['T', 'y', 'r', 'a', 'U', 'm', 'f', 'K', 'h', 'Y', 'Q', 'd']\n",
            "Selected Char -->  ['Z', 'F', 'X', 'x', 'q', 'h', 'd', 'I', 'A', 'P', 'Y', 's', 'r']\n",
            "Selected Char -->  ['E', 'h', 'd', 'm', 'L', 'D', 'f', 'v', 'l', 'U', 'w', 'Y', 'X', 'R']\n"
          ]
        }
      ]
    },
    {
      "cell_type": "code",
      "source": [
        "#Question 9\n",
        "# Q10. Write to the file all prime numbers between 600 and 800.\n",
        "\n",
        "\n",
        "fp=open('Prime_600-800.txt','w')\t# Open the file in writing mode\n",
        "def Prime(s):\n",
        "  isPrime=0\n",
        "  for i in range (2, s//2+1):\n",
        "    if(s%i==0):\n",
        "      isPrime=1\n",
        "      break\n",
        "  return isPrime\n",
        "\n",
        "for j in range (600, 800):\n",
        "  if (Prime(j)==0):\n",
        "    fp.write(str(j)+\"\\n\") \n",
        "\n",
        "fp.close()    "
      ],
      "metadata": {
        "id": "uMGl1RLlzXaz"
      },
      "execution_count": 49,
      "outputs": []
    },
    {
      "cell_type": "code",
      "source": [
        "#Question 10\n",
        "# Q11. WAP to calculate the time taken by a program\n",
        "\n",
        "import time as s\n",
        "start=s.time()\n",
        "\n",
        "\n",
        "end=s.time()\n",
        "print((end-start))"
      ],
      "metadata": {
        "colab": {
          "base_uri": "https://localhost:8080/"
        },
        "id": "G-2LKgPV0gcS",
        "outputId": "dcbab8bb-9402-4a3a-9020-5735cac0cd1c"
      },
      "execution_count": 50,
      "outputs": [
        {
          "output_type": "stream",
          "name": "stdout",
          "text": [
            "4.7206878662109375e-05\n"
          ]
        }
      ]
    },
    {
      "cell_type": "code",
      "source": [
        "#Question 12\n",
        "# Q12. WAP to sort following number of elements in a list, calculate time taken and plot the graph. \n",
        "# Number of elements in list Time Taken\n",
        "# 5k T1\n",
        "# 10k T2\n",
        "# 15k T3\n",
        "# 20k T4\n",
        "# 25k T5\n",
        "import time as t\n",
        "lt1=r.sample(range(1,100000), 5000)\n",
        "start_lt1=t.time()\n",
        "lt1.sort()\n",
        "end_lt1=t.time()\n",
        "print(\"Time Taken to sort 5k elements is:\",(end_lt1-start_lt1)*100,\"ms\")\n",
        "\n",
        "lt2=r.sample(range(1,1000000), 10000)\n",
        "start_lt2=t.time()\n",
        "lt2.sort()\n",
        "end_lt2=t.time()\n",
        "print(\"Time Taken to sort 10k elements is:\",(end_lt2-start_lt2)*100,\"ms\")\n",
        "\n",
        "lt3=r.sample(range(1,15000000), 150000)\n",
        "start_lt3=t.time()\n",
        "lt3.sort()\n",
        "end_lt3=t.time()\n",
        "print(\"Time Taken to sort 15k elements is:\",(end_lt3-start_lt3)*100,\"ms\")\n",
        "\n",
        "lt4=r.sample(range(1,20000000), 200000)\n",
        "start_lt4=t.time()\n",
        "lt4.sort()\n",
        "end_lt4=t.time()\n",
        "print(\"Time Taken to sort 20k elements is:\",(end_lt4-start_lt4)*100,\"ms\")\n",
        "\n",
        "end_lt5=r.sample(range(1,25000000), 250000)\n",
        "start_end_lt5=t.time()\n",
        "end_lt5.sort()\n",
        "end_end_lt5=t.time()\n",
        "print(\"Time Taken to sort 25k elements is:\",(end_end_lt5-start_end_lt5)*100,\"ms\")"
      ],
      "metadata": {
        "colab": {
          "base_uri": "https://localhost:8080/"
        },
        "id": "Zq8F_Ww-04_a",
        "outputId": "b4c43758-4465-4df2-d662-37f577bb625b"
      },
      "execution_count": 56,
      "outputs": [
        {
          "output_type": "stream",
          "name": "stdout",
          "text": [
            "Time Taken to sort 5k elements is: 0.14302730560302734 ms\n",
            "Time Taken to sort 10k elements is: 0.2048492431640625 ms\n",
            "Time Taken to sort 15k elements is: 6.621456146240234 ms\n",
            "Time Taken to sort 20k elements is: 9.070992469787598 ms\n",
            "Time Taken to sort 25k elements is: 10.213136672973633 ms\n"
          ]
        }
      ]
    },
    {
      "cell_type": "markdown",
      "source": [
        "![Screenshot 2023-06-07 231324.png](data:image/png;base64,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)"
      ],
      "metadata": {
        "id": "LjxROqcZ9N3c"
      }
    },
    {
      "cell_type": "code",
      "source": [
        "#Question 13\n",
        "# Q13. WAP to create a dictionary of student marks in five subjects and you have to find the student\n",
        "#  having maximum and minimum average marks.\n",
        "\n",
        "D2={\"Eng\":90,\"Maths\":95,\"SST\":98,\"Sci\":92,\"Hin\":91}\n",
        "print(\"Max is\",max(D2))\n",
        "print(\"Min is\",min(D2))\n",
        "print(\"Average is\",sum(D2.values())/len(D2))"
      ],
      "metadata": {
        "colab": {
          "base_uri": "https://localhost:8080/"
        },
        "id": "-uci8nqW9V-L",
        "outputId": "840d2c38-a205-4830-e005-464dbeb3ac9e"
      },
      "execution_count": 62,
      "outputs": [
        {
          "output_type": "stream",
          "name": "stdout",
          "text": [
            "Max is Sci\n",
            "Min is Eng\n",
            "Average is 93.2\n"
          ]
        }
      ]
    }
  ]
}